{
 "metadata": {
  "language_info": {
   "codemirror_mode": {
    "name": "ipython",
    "version": 3
   },
   "file_extension": ".py",
   "mimetype": "text/x-python",
   "name": "python",
   "nbconvert_exporter": "python",
   "pygments_lexer": "ipython3",
   "version": "3.8.8"
  },
  "orig_nbformat": 4,
  "kernelspec": {
   "name": "python3",
   "display_name": "Python 3.8.8 64-bit ('base': conda)"
  },
  "interpreter": {
   "hash": "4881f5eacd7088bcf5a836f9e344288743d588393de6dc96f82d4b26fa31d287"
  }
 },
 "nbformat": 4,
 "nbformat_minor": 2,
 "cells": [
  {
   "source": [
    "File Pull - This imports the pandas library and pulls in the csv data as a data frame import pandas as pd"
   ],
   "cell_type": "markdown",
   "metadata": {}
  },
  {
   "cell_type": "code",
   "execution_count": 12,
   "metadata": {},
   "outputs": [
    {
     "output_type": "execute_result",
     "data": {
      "text/plain": [
       "   Purchase ID             SN  Age Gender  Item ID  \\\n",
       "0            0        Lisim78   20   Male      108   \n",
       "1            1    Lisovynya38   40   Male      143   \n",
       "2            2     Ithergue48   24   Male       92   \n",
       "3            3  Chamassasya86   24   Male      100   \n",
       "4            4      Iskosia90   23   Male      131   \n",
       "\n",
       "                                   Item Name  Price  \n",
       "0  Extraction, Quickblade Of Trembling Hands   3.53  \n",
       "1                          Frenzied Scimitar   1.56  \n",
       "2                               Final Critic   4.88  \n",
       "3                                Blindscythe   3.27  \n",
       "4                                       Fury   1.44  "
      ],
      "text/html": "<div>\n<style scoped>\n    .dataframe tbody tr th:only-of-type {\n        vertical-align: middle;\n    }\n\n    .dataframe tbody tr th {\n        vertical-align: top;\n    }\n\n    .dataframe thead th {\n        text-align: right;\n    }\n</style>\n<table border=\"1\" class=\"dataframe\">\n  <thead>\n    <tr style=\"text-align: right;\">\n      <th></th>\n      <th>Purchase ID</th>\n      <th>SN</th>\n      <th>Age</th>\n      <th>Gender</th>\n      <th>Item ID</th>\n      <th>Item Name</th>\n      <th>Price</th>\n    </tr>\n  </thead>\n  <tbody>\n    <tr>\n      <th>0</th>\n      <td>0</td>\n      <td>Lisim78</td>\n      <td>20</td>\n      <td>Male</td>\n      <td>108</td>\n      <td>Extraction, Quickblade Of Trembling Hands</td>\n      <td>3.53</td>\n    </tr>\n    <tr>\n      <th>1</th>\n      <td>1</td>\n      <td>Lisovynya38</td>\n      <td>40</td>\n      <td>Male</td>\n      <td>143</td>\n      <td>Frenzied Scimitar</td>\n      <td>1.56</td>\n    </tr>\n    <tr>\n      <th>2</th>\n      <td>2</td>\n      <td>Ithergue48</td>\n      <td>24</td>\n      <td>Male</td>\n      <td>92</td>\n      <td>Final Critic</td>\n      <td>4.88</td>\n    </tr>\n    <tr>\n      <th>3</th>\n      <td>3</td>\n      <td>Chamassasya86</td>\n      <td>24</td>\n      <td>Male</td>\n      <td>100</td>\n      <td>Blindscythe</td>\n      <td>3.27</td>\n    </tr>\n    <tr>\n      <th>4</th>\n      <td>4</td>\n      <td>Iskosia90</td>\n      <td>23</td>\n      <td>Male</td>\n      <td>131</td>\n      <td>Fury</td>\n      <td>1.44</td>\n    </tr>\n  </tbody>\n</table>\n</div>"
     },
     "metadata": {},
     "execution_count": 12
    }
   ],
   "source": [
    "import pandas as pd\n",
    "path=\"Resources\\purchase_data.csv\" \n",
    "purchase_df = pd.read_csv(path) \n",
    "purchase_df.head()"
   ]
  },
  {
   "source": [
    "Player Count - This displays the total number of players"
   ],
   "cell_type": "markdown",
   "metadata": {}
  },
  {
   "cell_type": "code",
   "execution_count": 13,
   "metadata": {},
   "outputs": [
    {
     "output_type": "execute_result",
     "data": {
      "text/plain": [
       "   Total_Players\n",
       "0            576"
      ],
      "text/html": "<div>\n<style scoped>\n    .dataframe tbody tr th:only-of-type {\n        vertical-align: middle;\n    }\n\n    .dataframe tbody tr th {\n        vertical-align: top;\n    }\n\n    .dataframe thead th {\n        text-align: right;\n    }\n</style>\n<table border=\"1\" class=\"dataframe\">\n  <thead>\n    <tr style=\"text-align: right;\">\n      <th></th>\n      <th>Total_Players</th>\n    </tr>\n  </thead>\n  <tbody>\n    <tr>\n      <th>0</th>\n      <td>576</td>\n    </tr>\n  </tbody>\n</table>\n</div>"
     },
     "metadata": {},
     "execution_count": 13
    }
   ],
   "source": [
    "SN_Counts = purchase_df[\"SN\"].nunique()\n",
    "Total_Player_DF = pd.DataFrame({\"Total_Players\":[SN_Counts]})\n",
    "Total_Player_DF"
   ]
  },
  {
   "source": [
    "Purchasing Analysis - This displays: # of Unique Items, Average Price, Number of Purchases, Total Revenue"
   ],
   "cell_type": "markdown",
   "metadata": {}
  },
  {
   "cell_type": "code",
   "execution_count": 14,
   "metadata": {},
   "outputs": [
    {
     "output_type": "execute_result",
     "data": {
      "text/plain": [
       "   Number of Unique Items Average Price  Number of Purchases Total Revenue\n",
       "0                     179         $3.05                  780      $2379.77"
      ],
      "text/html": "<div>\n<style scoped>\n    .dataframe tbody tr th:only-of-type {\n        vertical-align: middle;\n    }\n\n    .dataframe tbody tr th {\n        vertical-align: top;\n    }\n\n    .dataframe thead th {\n        text-align: right;\n    }\n</style>\n<table border=\"1\" class=\"dataframe\">\n  <thead>\n    <tr style=\"text-align: right;\">\n      <th></th>\n      <th>Number of Unique Items</th>\n      <th>Average Price</th>\n      <th>Number of Purchases</th>\n      <th>Total Revenue</th>\n    </tr>\n  </thead>\n  <tbody>\n    <tr>\n      <th>0</th>\n      <td>179</td>\n      <td>$3.05</td>\n      <td>780</td>\n      <td>$2379.77</td>\n    </tr>\n  </tbody>\n</table>\n</div>"
     },
     "metadata": {},
     "execution_count": 14
    }
   ],
   "source": [
    "Unique_Items = purchase_df[\"Item ID\"].nunique()\n",
    "Average_Price = purchase_df[\"Price\"].mean()\n",
    "Num_Purchases = purchase_df[\"Purchase ID\"].count()\n",
    "Total_Revenue = purchase_df[\"Price\"].sum()\n",
    "\n",
    "Summary_Tbl_Df = pd.DataFrame({\"Number of Unique Items\": [Unique_Items], \"Average Price\": [Average_Price], \"Number of Purchases\": [Num_Purchases], \"Total Revenue\": [Total_Revenue] }\n",
    ")\n",
    "Summary_Tbl_Df[\"Average Price\"] = Summary_Tbl_Df[\"Average Price\"].map(\"${:.2f}\".format)\n",
    "Summary_Tbl_Df[\"Total Revenue\"] = Summary_Tbl_Df[\"Total Revenue\"].map(\"${:.2f}\".format)\n",
    "Summary_Tbl_Df\n"
   ]
  },
  {
   "source": [
    "Gender Demographics - This displays the count and percent of Male, Female, Other/Non-Disclosed"
   ],
   "cell_type": "markdown",
   "metadata": {}
  },
  {
   "cell_type": "code",
   "execution_count": 15,
   "metadata": {},
   "outputs": [
    {
     "output_type": "execute_result",
     "data": {
      "text/plain": [
       "                       Total Count Percent of Players\n",
       "Gender                                               \n",
       "Male                           484             84.03%\n",
       "Female                          81             14.06%\n",
       "Other / Non-Disclosed           11              1.91%"
      ],
      "text/html": "<div>\n<style scoped>\n    .dataframe tbody tr th:only-of-type {\n        vertical-align: middle;\n    }\n\n    .dataframe tbody tr th {\n        vertical-align: top;\n    }\n\n    .dataframe thead th {\n        text-align: right;\n    }\n</style>\n<table border=\"1\" class=\"dataframe\">\n  <thead>\n    <tr style=\"text-align: right;\">\n      <th></th>\n      <th>Total Count</th>\n      <th>Percent of Players</th>\n    </tr>\n    <tr>\n      <th>Gender</th>\n      <th></th>\n      <th></th>\n    </tr>\n  </thead>\n  <tbody>\n    <tr>\n      <th>Male</th>\n      <td>484</td>\n      <td>84.03%</td>\n    </tr>\n    <tr>\n      <th>Female</th>\n      <td>81</td>\n      <td>14.06%</td>\n    </tr>\n    <tr>\n      <th>Other / Non-Disclosed</th>\n      <td>11</td>\n      <td>1.91%</td>\n    </tr>\n  </tbody>\n</table>\n</div>"
     },
     "metadata": {},
     "execution_count": 15
    }
   ],
   "source": [
    "#This can be simplified may comeback\n",
    "\n",
    "grouped_df = purchase_df.groupby(purchase_df[\"Gender\"])\n",
    "\n",
    "total_by_gender = grouped_df.nunique()\n",
    "total_by_gender = total_by_gender.rename(columns={\"SN\": \"Total Count\"})\n",
    "total_by_gender = total_by_gender[\"Total Count\"]\n",
    "\n",
    "percent_by_gender = (grouped_df.nunique()/purchase_df[\"SN\"].nunique())*100\n",
    "percent_by_gender = percent_by_gender.rename(columns={\"SN\": \"Percent of Players\"})\n",
    "percent_by_gender = percent_by_gender[\"Percent of Players\"].map(\"{:.2f}%\".format)\n",
    "\n",
    "Gender_Demographics_df = pd.concat([total_by_gender,percent_by_gender], axis=1)\n",
    "Gender_Demographics_df.sort_values(\"Percent of Players\", ascending=False)\n"
   ]
  },
  {
   "source": [
    "Purchasing Analysis (Gender) - Summarizes Purchases, Price and Total by Gender"
   ],
   "cell_type": "markdown",
   "metadata": {}
  },
  {
   "cell_type": "code",
   "execution_count": 16,
   "metadata": {},
   "outputs": [
    {
     "output_type": "execute_result",
     "data": {
      "text/plain": [
       "                       Purchase Count Average Purchase Price  \\\n",
       "Gender                                                         \n",
       "Female                            113                  $3.20   \n",
       "Male                              652                  $3.02   \n",
       "Other / Non-Disclosed              15                  $3.35   \n",
       "\n",
       "                      Total Purchase Value Avg Total Purchase per Person  \n",
       "Gender                                                                    \n",
       "Female                             $361.94                         $4.47  \n",
       "Male                              $1967.64                         $4.07  \n",
       "Other / Non-Disclosed               $50.19                         $4.56  "
      ],
      "text/html": "<div>\n<style scoped>\n    .dataframe tbody tr th:only-of-type {\n        vertical-align: middle;\n    }\n\n    .dataframe tbody tr th {\n        vertical-align: top;\n    }\n\n    .dataframe thead th {\n        text-align: right;\n    }\n</style>\n<table border=\"1\" class=\"dataframe\">\n  <thead>\n    <tr style=\"text-align: right;\">\n      <th></th>\n      <th>Purchase Count</th>\n      <th>Average Purchase Price</th>\n      <th>Total Purchase Value</th>\n      <th>Avg Total Purchase per Person</th>\n    </tr>\n    <tr>\n      <th>Gender</th>\n      <th></th>\n      <th></th>\n      <th></th>\n      <th></th>\n    </tr>\n  </thead>\n  <tbody>\n    <tr>\n      <th>Female</th>\n      <td>113</td>\n      <td>$3.20</td>\n      <td>$361.94</td>\n      <td>$4.47</td>\n    </tr>\n    <tr>\n      <th>Male</th>\n      <td>652</td>\n      <td>$3.02</td>\n      <td>$1967.64</td>\n      <td>$4.07</td>\n    </tr>\n    <tr>\n      <th>Other / Non-Disclosed</th>\n      <td>15</td>\n      <td>$3.35</td>\n      <td>$50.19</td>\n      <td>$4.56</td>\n    </tr>\n  </tbody>\n</table>\n</div>"
     },
     "metadata": {},
     "execution_count": 16
    }
   ],
   "source": [
    "purchase_count = grouped_df[\"Purchase ID\"].count()\n",
    "average_pur_price = grouped_df[\"Price\"].mean()\n",
    "total_pur_value = grouped_df[\"Price\"].sum()\n",
    "avg_per_person = total_pur_value / total_by_gender\n",
    "\n",
    "purchasing_analysis_df = pd.concat([purchase_count,average_pur_price,total_pur_value,avg_per_person], axis=1)\n",
    "purchasing_analysis_df.columns = [\"Purchase Count\", \"Average Purchase Price\", \"Total Purchase Value\", \"Avg Total Purchase per Person\" ]\n",
    "purchasing_analysis_df[\"Average Purchase Price\"] = purchasing_analysis_df[\"Average Purchase Price\"].map(\"${:.2f}\".format)\n",
    "purchasing_analysis_df[\"Total Purchase Value\"] = purchasing_analysis_df[\"Total Purchase Value\"].map(\"${:.2f}\".format)\n",
    "purchasing_analysis_df[\"Avg Total Purchase per Person\"] = purchasing_analysis_df[\"Avg Total Purchase per Person\"].map(\"${:.2f}\".format)\n",
    "purchasing_analysis_df"
   ]
  },
  {
   "source": [
    "Age Demographics - This will show count and percent by age bracket"
   ],
   "cell_type": "markdown",
   "metadata": {}
  },
  {
   "cell_type": "code",
   "execution_count": 17,
   "metadata": {},
   "outputs": [
    {
     "output_type": "execute_result",
     "data": {
      "text/plain": [
       "             Total Count Percentage of Players\n",
       "Age Bracket                                   \n",
       "<10                   17                 2.95%\n",
       "10-14                 22                 3.82%\n",
       "15-19                107                18.58%\n",
       "20-24                258                44.79%\n",
       "25-29                 77                13.37%\n",
       "30-34                 52                 9.03%\n",
       "35-39                 31                 5.38%\n",
       "40+                   12                 2.08%"
      ],
      "text/html": "<div>\n<style scoped>\n    .dataframe tbody tr th:only-of-type {\n        vertical-align: middle;\n    }\n\n    .dataframe tbody tr th {\n        vertical-align: top;\n    }\n\n    .dataframe thead th {\n        text-align: right;\n    }\n</style>\n<table border=\"1\" class=\"dataframe\">\n  <thead>\n    <tr style=\"text-align: right;\">\n      <th></th>\n      <th>Total Count</th>\n      <th>Percentage of Players</th>\n    </tr>\n    <tr>\n      <th>Age Bracket</th>\n      <th></th>\n      <th></th>\n    </tr>\n  </thead>\n  <tbody>\n    <tr>\n      <th>&lt;10</th>\n      <td>17</td>\n      <td>2.95%</td>\n    </tr>\n    <tr>\n      <th>10-14</th>\n      <td>22</td>\n      <td>3.82%</td>\n    </tr>\n    <tr>\n      <th>15-19</th>\n      <td>107</td>\n      <td>18.58%</td>\n    </tr>\n    <tr>\n      <th>20-24</th>\n      <td>258</td>\n      <td>44.79%</td>\n    </tr>\n    <tr>\n      <th>25-29</th>\n      <td>77</td>\n      <td>13.37%</td>\n    </tr>\n    <tr>\n      <th>30-34</th>\n      <td>52</td>\n      <td>9.03%</td>\n    </tr>\n    <tr>\n      <th>35-39</th>\n      <td>31</td>\n      <td>5.38%</td>\n    </tr>\n    <tr>\n      <th>40+</th>\n      <td>12</td>\n      <td>2.08%</td>\n    </tr>\n  </tbody>\n</table>\n</div>"
     },
     "metadata": {},
     "execution_count": 17
    }
   ],
   "source": [
    "bins = [0, 9, 14, 19, 24, 29 ,34, 39, 999]\n",
    "labels = [\"<10\",\"10-14\",\"15-19\",\"20-24\",\"25-29\",\"30-34\",\"35-39\",\"40+\"]\n",
    "\n",
    "#This adds the grouping bracket\n",
    "purchase_df[\"Age Bracket\"] = pd.cut(purchase_df[\"Age\"],bins,labels=labels, include_lowest=True)\n",
    "\n",
    "\n",
    "age_group = purchase_df.groupby(purchase_df[\"Age Bracket\"])\n",
    "\n",
    "age_count = age_group[\"SN\"].nunique()\n",
    "age_percent = age_count/age_count.sum()*100\n",
    "\n",
    "age_demo_df = pd.concat([age_count, age_percent], axis=1)\n",
    "age_demo_df.columns = [\"Total Count\", \"Percentage of Players\"]\n",
    "age_demo_df[\"Percentage of Players\"]=age_demo_df[\"Percentage of Players\"].map(\"{:.2f}%\".format)\n",
    "age_demo_df\n",
    "\n",
    "\n"
   ]
  },
  {
   "source": [
    "Purchasing Analysis (Age) - This shows summary stats by age bracket"
   ],
   "cell_type": "markdown",
   "metadata": {}
  },
  {
   "cell_type": "code",
   "execution_count": 18,
   "metadata": {},
   "outputs": [
    {
     "output_type": "execute_result",
     "data": {
      "text/plain": [
       "             Purchase Count Average Purchase Price Total Purchase Value  \\\n",
       "Age Bracket                                                               \n",
       "<10                      23                  $3.35               $77.13   \n",
       "10-14                    28                  $2.96               $82.78   \n",
       "15-19                   136                  $3.04              $412.89   \n",
       "20-24                   365                  $3.05             $1114.06   \n",
       "25-29                   101                  $2.90              $293.00   \n",
       "30-34                    73                  $2.93              $214.00   \n",
       "35-39                    41                  $3.60              $147.67   \n",
       "40+                      13                  $2.94               $38.24   \n",
       "\n",
       "            Avg Total Purchase per Person  \n",
       "Age Bracket                                \n",
       "<10                                 $4.54  \n",
       "10-14                               $3.76  \n",
       "15-19                               $3.86  \n",
       "20-24                               $4.32  \n",
       "25-29                               $3.81  \n",
       "30-34                               $4.12  \n",
       "35-39                               $4.76  \n",
       "40+                                 $3.19  "
      ],
      "text/html": "<div>\n<style scoped>\n    .dataframe tbody tr th:only-of-type {\n        vertical-align: middle;\n    }\n\n    .dataframe tbody tr th {\n        vertical-align: top;\n    }\n\n    .dataframe thead th {\n        text-align: right;\n    }\n</style>\n<table border=\"1\" class=\"dataframe\">\n  <thead>\n    <tr style=\"text-align: right;\">\n      <th></th>\n      <th>Purchase Count</th>\n      <th>Average Purchase Price</th>\n      <th>Total Purchase Value</th>\n      <th>Avg Total Purchase per Person</th>\n    </tr>\n    <tr>\n      <th>Age Bracket</th>\n      <th></th>\n      <th></th>\n      <th></th>\n      <th></th>\n    </tr>\n  </thead>\n  <tbody>\n    <tr>\n      <th>&lt;10</th>\n      <td>23</td>\n      <td>$3.35</td>\n      <td>$77.13</td>\n      <td>$4.54</td>\n    </tr>\n    <tr>\n      <th>10-14</th>\n      <td>28</td>\n      <td>$2.96</td>\n      <td>$82.78</td>\n      <td>$3.76</td>\n    </tr>\n    <tr>\n      <th>15-19</th>\n      <td>136</td>\n      <td>$3.04</td>\n      <td>$412.89</td>\n      <td>$3.86</td>\n    </tr>\n    <tr>\n      <th>20-24</th>\n      <td>365</td>\n      <td>$3.05</td>\n      <td>$1114.06</td>\n      <td>$4.32</td>\n    </tr>\n    <tr>\n      <th>25-29</th>\n      <td>101</td>\n      <td>$2.90</td>\n      <td>$293.00</td>\n      <td>$3.81</td>\n    </tr>\n    <tr>\n      <th>30-34</th>\n      <td>73</td>\n      <td>$2.93</td>\n      <td>$214.00</td>\n      <td>$4.12</td>\n    </tr>\n    <tr>\n      <th>35-39</th>\n      <td>41</td>\n      <td>$3.60</td>\n      <td>$147.67</td>\n      <td>$4.76</td>\n    </tr>\n    <tr>\n      <th>40+</th>\n      <td>13</td>\n      <td>$2.94</td>\n      <td>$38.24</td>\n      <td>$3.19</td>\n    </tr>\n  </tbody>\n</table>\n</div>"
     },
     "metadata": {},
     "execution_count": 18
    }
   ],
   "source": [
    "purchase_count = age_group[\"Purchase ID\"].count()\n",
    "average_pur_price = age_group[\"Price\"].mean()\n",
    "total_pur_value = age_group[\"Price\"].sum()\n",
    "avg_per_person = total_pur_value / age_count\n",
    "\n",
    "age_analysis_df = pd.concat([purchase_count,average_pur_price,total_pur_value,avg_per_person], axis=1)\n",
    "age_analysis_df.columns = [\"Purchase Count\", \"Average Purchase Price\", \"Total Purchase Value\", \"Avg Total Purchase per Person\" ]\n",
    "age_analysis_df[\"Average Purchase Price\"] = age_analysis_df[\"Average Purchase Price\"].map(\"${:.2f}\".format)\n",
    "age_analysis_df[\"Total Purchase Value\"] = age_analysis_df[\"Total Purchase Value\"].map(\"${:.2f}\".format)\n",
    "age_analysis_df[\"Avg Total Purchase per Person\"] = age_analysis_df[\"Avg Total Purchase per Person\"].map(\"${:.2f}\".format)\n",
    "age_analysis_df\n"
   ]
  },
  {
   "source": [
    "Top Spenders - This shows the top spender information"
   ],
   "cell_type": "markdown",
   "metadata": {}
  },
  {
   "cell_type": "code",
   "execution_count": 19,
   "metadata": {},
   "outputs": [
    {
     "output_type": "execute_result",
     "data": {
      "text/plain": [
       "             Purchase Count Average Purchase Price Total Purchase Value\n",
       "SN                                                                     \n",
       "Lisosia93                 5                  $3.79               $18.96\n",
       "Idastidru52               4                  $3.86               $15.45\n",
       "Chamjask73                3                  $4.61               $13.83\n",
       "Iral74                    4                  $3.40               $13.62\n",
       "Iskadarya95               3                  $4.37               $13.10"
      ],
      "text/html": "<div>\n<style scoped>\n    .dataframe tbody tr th:only-of-type {\n        vertical-align: middle;\n    }\n\n    .dataframe tbody tr th {\n        vertical-align: top;\n    }\n\n    .dataframe thead th {\n        text-align: right;\n    }\n</style>\n<table border=\"1\" class=\"dataframe\">\n  <thead>\n    <tr style=\"text-align: right;\">\n      <th></th>\n      <th>Purchase Count</th>\n      <th>Average Purchase Price</th>\n      <th>Total Purchase Value</th>\n    </tr>\n    <tr>\n      <th>SN</th>\n      <th></th>\n      <th></th>\n      <th></th>\n    </tr>\n  </thead>\n  <tbody>\n    <tr>\n      <th>Lisosia93</th>\n      <td>5</td>\n      <td>$3.79</td>\n      <td>$18.96</td>\n    </tr>\n    <tr>\n      <th>Idastidru52</th>\n      <td>4</td>\n      <td>$3.86</td>\n      <td>$15.45</td>\n    </tr>\n    <tr>\n      <th>Chamjask73</th>\n      <td>3</td>\n      <td>$4.61</td>\n      <td>$13.83</td>\n    </tr>\n    <tr>\n      <th>Iral74</th>\n      <td>4</td>\n      <td>$3.40</td>\n      <td>$13.62</td>\n    </tr>\n    <tr>\n      <th>Iskadarya95</th>\n      <td>3</td>\n      <td>$4.37</td>\n      <td>$13.10</td>\n    </tr>\n  </tbody>\n</table>\n</div>"
     },
     "metadata": {},
     "execution_count": 19
    }
   ],
   "source": [
    "sn_group = purchase_df.groupby(purchase_df[\"SN\"])\n",
    "\n",
    "individual_purchase = sn_group[\"SN\"].count()\n",
    "individual_average = sn_group[\"Price\"].mean()\n",
    "individual_total = individual_purchase*individual_average\n",
    "\n",
    "individual_df = pd.concat([individual_purchase,individual_average,individual_total], axis=1)\n",
    "individual_df.columns = [\"Purchase Count\", \"Average Purchase Price\", \"Total Purchase Value\"]\n",
    "\n",
    "top_five_df = individual_df.sort_values(\"Total Purchase Value\", ascending=False).head(5)\n",
    "top_five_df[\"Average Purchase Price\"] = top_five_df[\"Average Purchase Price\"].map(\"${:.2f}\".format)\n",
    "top_five_df[\"Total Purchase Value\"] = top_five_df[\"Total Purchase Value\"].map(\"${:.2f}\".format)\n",
    "top_five_df\n",
    "\n"
   ]
  },
  {
   "source": [
    "Most Popular Items - This shows the most popular items sorted by ID and name"
   ],
   "cell_type": "markdown",
   "metadata": {}
  },
  {
   "cell_type": "code",
   "execution_count": 20,
   "metadata": {},
   "outputs": [
    {
     "output_type": "execute_result",
     "data": {
      "text/plain": [
       "                                                      Purchase Count  \\\n",
       "Item ID Item Name                                                      \n",
       "92      Final Critic                                              13   \n",
       "178     Oathbreaker, Last Hope of the Breaking Storm              12   \n",
       "145     Fiery Glass Crusader                                       9   \n",
       "132     Persuasion                                                 9   \n",
       "108     Extraction, Quickblade Of Trembling Hands                  9   \n",
       "\n",
       "                                                     Average Purchase Price  \\\n",
       "Item ID Item Name                                                             \n",
       "92      Final Critic                                                  $4.61   \n",
       "178     Oathbreaker, Last Hope of the Breaking Storm                  $4.23   \n",
       "145     Fiery Glass Crusader                                          $4.58   \n",
       "132     Persuasion                                                    $3.22   \n",
       "108     Extraction, Quickblade Of Trembling Hands                     $3.53   \n",
       "\n",
       "                                                     Total Purchase Value  \n",
       "Item ID Item Name                                                          \n",
       "92      Final Critic                                               $59.99  \n",
       "178     Oathbreaker, Last Hope of the Breaking Storm               $50.76  \n",
       "145     Fiery Glass Crusader                                       $41.22  \n",
       "132     Persuasion                                                 $28.99  \n",
       "108     Extraction, Quickblade Of Trembling Hands                  $31.77  "
      ],
      "text/html": "<div>\n<style scoped>\n    .dataframe tbody tr th:only-of-type {\n        vertical-align: middle;\n    }\n\n    .dataframe tbody tr th {\n        vertical-align: top;\n    }\n\n    .dataframe thead th {\n        text-align: right;\n    }\n</style>\n<table border=\"1\" class=\"dataframe\">\n  <thead>\n    <tr style=\"text-align: right;\">\n      <th></th>\n      <th></th>\n      <th>Purchase Count</th>\n      <th>Average Purchase Price</th>\n      <th>Total Purchase Value</th>\n    </tr>\n    <tr>\n      <th>Item ID</th>\n      <th>Item Name</th>\n      <th></th>\n      <th></th>\n      <th></th>\n    </tr>\n  </thead>\n  <tbody>\n    <tr>\n      <th>92</th>\n      <th>Final Critic</th>\n      <td>13</td>\n      <td>$4.61</td>\n      <td>$59.99</td>\n    </tr>\n    <tr>\n      <th>178</th>\n      <th>Oathbreaker, Last Hope of the Breaking Storm</th>\n      <td>12</td>\n      <td>$4.23</td>\n      <td>$50.76</td>\n    </tr>\n    <tr>\n      <th>145</th>\n      <th>Fiery Glass Crusader</th>\n      <td>9</td>\n      <td>$4.58</td>\n      <td>$41.22</td>\n    </tr>\n    <tr>\n      <th>132</th>\n      <th>Persuasion</th>\n      <td>9</td>\n      <td>$3.22</td>\n      <td>$28.99</td>\n    </tr>\n    <tr>\n      <th>108</th>\n      <th>Extraction, Quickblade Of Trembling Hands</th>\n      <td>9</td>\n      <td>$3.53</td>\n      <td>$31.77</td>\n    </tr>\n  </tbody>\n</table>\n</div>"
     },
     "metadata": {},
     "execution_count": 20
    }
   ],
   "source": [
    "item_df = purchase_df[[\"Item ID\",\"Item Name\",\"Price\"]]\n",
    "item_df = item_df.groupby([\"Item ID\",\"Item Name\"])\n",
    "\n",
    "purchase_count = item_df.count()\n",
    "purchase_price = item_df.mean()\n",
    "total_value = purchase_count*purchase_price\n",
    "\n",
    "item_sum_df = pd.concat([purchase_count,purchase_price,total_value], axis=1)\n",
    "item_sum_df.columns = [\"Purchase Count\", \"Average Purchase Price\", \"Total Purchase Value\"]\n",
    "\n",
    "top_five_item_df = item_sum_df.sort_values(\"Purchase Count\", ascending =False).head(5)\n",
    "top_five_item_df[\"Average Purchase Price\"] = top_five_item_df[\"Average Purchase Price\"].map(\"${:.2f}\".format)\n",
    "top_five_item_df[\"Total Purchase Value\"] = top_five_item_df[\"Total Purchase Value\"].map(\"${:.2f}\".format)\n",
    "top_five_item_df\n"
   ]
  },
  {
   "source": [
    "Most Profitable Items"
   ],
   "cell_type": "markdown",
   "metadata": {}
  },
  {
   "cell_type": "code",
   "execution_count": 21,
   "metadata": {},
   "outputs": [
    {
     "output_type": "execute_result",
     "data": {
      "text/plain": [
       "                                                      Purchase Count  \\\n",
       "Item ID Item Name                                                      \n",
       "92      Final Critic                                              13   \n",
       "178     Oathbreaker, Last Hope of the Breaking Storm              12   \n",
       "82      Nirvana                                                    9   \n",
       "145     Fiery Glass Crusader                                       9   \n",
       "103     Singed Scalpel                                             8   \n",
       "\n",
       "                                                     Average Purchase Price  \\\n",
       "Item ID Item Name                                                             \n",
       "92      Final Critic                                                  $4.61   \n",
       "178     Oathbreaker, Last Hope of the Breaking Storm                  $4.23   \n",
       "82      Nirvana                                                       $4.90   \n",
       "145     Fiery Glass Crusader                                          $4.58   \n",
       "103     Singed Scalpel                                                $4.35   \n",
       "\n",
       "                                                     Total Purchase Value  \n",
       "Item ID Item Name                                                          \n",
       "92      Final Critic                                               $59.99  \n",
       "178     Oathbreaker, Last Hope of the Breaking Storm               $50.76  \n",
       "82      Nirvana                                                    $44.10  \n",
       "145     Fiery Glass Crusader                                       $41.22  \n",
       "103     Singed Scalpel                                             $34.80  "
      ],
      "text/html": "<div>\n<style scoped>\n    .dataframe tbody tr th:only-of-type {\n        vertical-align: middle;\n    }\n\n    .dataframe tbody tr th {\n        vertical-align: top;\n    }\n\n    .dataframe thead th {\n        text-align: right;\n    }\n</style>\n<table border=\"1\" class=\"dataframe\">\n  <thead>\n    <tr style=\"text-align: right;\">\n      <th></th>\n      <th></th>\n      <th>Purchase Count</th>\n      <th>Average Purchase Price</th>\n      <th>Total Purchase Value</th>\n    </tr>\n    <tr>\n      <th>Item ID</th>\n      <th>Item Name</th>\n      <th></th>\n      <th></th>\n      <th></th>\n    </tr>\n  </thead>\n  <tbody>\n    <tr>\n      <th>92</th>\n      <th>Final Critic</th>\n      <td>13</td>\n      <td>$4.61</td>\n      <td>$59.99</td>\n    </tr>\n    <tr>\n      <th>178</th>\n      <th>Oathbreaker, Last Hope of the Breaking Storm</th>\n      <td>12</td>\n      <td>$4.23</td>\n      <td>$50.76</td>\n    </tr>\n    <tr>\n      <th>82</th>\n      <th>Nirvana</th>\n      <td>9</td>\n      <td>$4.90</td>\n      <td>$44.10</td>\n    </tr>\n    <tr>\n      <th>145</th>\n      <th>Fiery Glass Crusader</th>\n      <td>9</td>\n      <td>$4.58</td>\n      <td>$41.22</td>\n    </tr>\n    <tr>\n      <th>103</th>\n      <th>Singed Scalpel</th>\n      <td>8</td>\n      <td>$4.35</td>\n      <td>$34.80</td>\n    </tr>\n  </tbody>\n</table>\n</div>"
     },
     "metadata": {},
     "execution_count": 21
    }
   ],
   "source": [
    "top_profit_item_df = item_sum_df.sort_values(\"Total Purchase Value\", ascending =False).head(5)\n",
    "top_profit_item_df[\"Average Purchase Price\"] = top_profit_item_df[\"Average Purchase Price\"].map(\"${:.2f}\".format)\n",
    "top_profit_item_df[\"Total Purchase Value\"] = top_profit_item_df[\"Total Purchase Value\"].map(\"${:.2f}\".format)\n",
    "top_profit_item_df"
   ]
  },
  {
   "cell_type": "code",
   "execution_count": null,
   "metadata": {},
   "outputs": [],
   "source": []
  }
 ]
}